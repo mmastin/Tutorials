{
 "cells": [
  {
   "cell_type": "code",
   "execution_count": 3,
   "metadata": {},
   "outputs": [
    {
     "data": {
      "text/plain": [
       "True"
      ]
     },
     "execution_count": 3,
     "metadata": {},
     "output_type": "execute_result"
    }
   ],
   "source": [
    "from collections import abc\n",
    "\n",
    "dict = {}\n",
    "isinstance(dict, abc.Mapping)"
   ]
  },
  {
   "cell_type": "code",
   "execution_count": 1,
   "metadata": {},
   "outputs": [
    {
     "data": {
      "text/plain": [
       "True"
      ]
     },
     "execution_count": 1,
     "metadata": {},
     "output_type": "execute_result"
    }
   ],
   "source": [
    "a = dict(one=1, two=2, three=3)\n",
    "b = {'one': 1, 'two': 2, 'three': 3}\n",
    "c = dict(zip(['one', 'two', 'three'], [1, 2, 3]))\n",
    "d = dict([('two', 2), ('one', 1), ('three', 3)])\n",
    "e = dict({'three': 3, 'one': 1, 'two': 2})\n",
    "\n",
    "a == b == c == d == e"
   ]
  },
  {
   "cell_type": "code",
   "execution_count": 2,
   "metadata": {},
   "outputs": [
    {
     "data": {
      "text/plain": [
       "{'China': 86, 'India': 91, 'United States': 1, 'Bangladesh': 880}"
      ]
     },
     "execution_count": 2,
     "metadata": {},
     "output_type": "execute_result"
    }
   ],
   "source": [
    "DIAL_CODES = [\n",
    "    (86, 'China'),\n",
    "    (91, 'India'),\n",
    "    (1, 'United States'),\n",
    "    (880, 'Bangladesh')\n",
    "]\n",
    "\n",
    "country_code = {country: code for code, country in DIAL_CODES}\n",
    "country_code"
   ]
  },
  {
   "cell_type": "code",
   "execution_count": 3,
   "metadata": {},
   "outputs": [
    {
     "data": {
      "text/plain": [
       "{86: 'CHINA', 91: 'INDIA', 1: 'UNITED STATES', 880: 'BANGLADESH'}"
      ]
     },
     "execution_count": 3,
     "metadata": {},
     "output_type": "execute_result"
    }
   ],
   "source": [
    "{code: country.upper() for country, code in country_code.items()}"
   ]
  },
  {
   "cell_type": "code",
   "execution_count": 10,
   "metadata": {},
   "outputs": [
    {
     "name": "stdout",
     "output_type": "stream",
     "text": [
      "0 [(12, 17), (13, 22)]\n",
      "added [(11, 15)]\n",
      "after [(4, 1)]\n",
      "an [(1, 30)]\n",
      "app [(15, 40), (16, 5)]\n",
      "as [(15, 37)]\n",
      "avoid [(3, 55)]\n",
      "back [(11, 21)]\n",
      "by [(11, 26)]\n",
      "can [(3, 51)]\n",
      "cwd [(4, 20)]\n",
      "CWD [(10, 18)]\n",
      "del [(13, 9)]\n",
      "doing [(3, 61)]\n",
      "Entry [(1, 4)]\n",
      "for [(1, 16)]\n",
      "from [(3, 18), (4, 24), (10, 22), (15, 5)]\n",
      "if [(9, 1), (12, 5)]\n",
      "import [(7, 1), (15, 20)]\n",
      "imports [(3, 67)]\n",
      "init_path [(11, 49)]\n",
      "InteractiveShellApp [(11, 29)]\n",
      "ipykernel [(3, 27), (15, 10)]\n",
      "IPython [(1, 33)]\n",
      "is [(3, 6), (11, 12)]\n",
      "kernel [(1, 41)]\n",
      "kernelapp [(15, 27)]\n",
      "launching [(1, 20)]\n",
      "launch_new_instance [(16, 9)]\n",
      "load [(10, 45)]\n",
      "package [(3, 37)]\n",
      "path [(4, 33), (10, 31), (12, 12), (13, 17)]\n",
      "point [(1, 10)]\n",
      "Remove [(10, 7)]\n",
      "removing [(4, 7)]\n",
      "separate [(3, 9)]\n",
      "so [(3, 45)]\n",
      "stuff [(10, 50)]\n",
      "sys [(4, 29), (7, 8), (10, 27), (12, 8), (13, 13)]\n",
      "the [(3, 23), (4, 16), (10, 14)]\n",
      "This [(3, 1), (11, 7)]\n",
      "until [(3, 75)]\n",
      "we [(3, 48), (10, 42)]\n",
      "while [(10, 36)]\n",
      "__main__ [(9, 17)]\n",
      "__name__ [(9, 4)]\n"
     ]
    }
   ],
   "source": [
    "import sys\n",
    "import re\n",
    "\n",
    "WORD_RE = re.compile(r'\\w+')\n",
    "\n",
    "index = {}\n",
    "with open(sys.argv[0], encoding='utf-8') as fp:\n",
    "    for line_no, line in enumerate(fp, 1):\n",
    "        for match in WORD_RE.finditer(line):\n",
    "            word = match.group()\n",
    "            column_no = match.start() + 1\n",
    "            location = (line_no, column_no)\n",
    "            index.setdefault(word, []).append(location)\n",
    "            \n",
    "for word in sorted(index, key=str.upper):\n",
    "    print(word, index[word])"
   ]
  },
  {
   "cell_type": "code",
   "execution_count": 8,
   "metadata": {},
   "outputs": [
    {
     "data": {
      "text/plain": [
       "'/Users/mattmastin/.local/lib/python3.8/site-packages/ipykernel_launcher.py'"
      ]
     },
     "execution_count": 8,
     "metadata": {},
     "output_type": "execute_result"
    }
   ],
   "source": [
    "sys.argv[0]"
   ]
  },
  {
   "cell_type": "code",
   "execution_count": 13,
   "metadata": {},
   "outputs": [
    {
     "name": "stdout",
     "output_type": "stream",
     "text": [
      "0 [(12, 17), (13, 22)]\n",
      "added [(11, 15)]\n",
      "after [(4, 1)]\n",
      "an [(1, 30)]\n",
      "app [(15, 40), (16, 5)]\n",
      "as [(15, 37)]\n",
      "avoid [(3, 55)]\n",
      "back [(11, 21)]\n",
      "by [(11, 26)]\n",
      "can [(3, 51)]\n",
      "cwd [(4, 20)]\n",
      "CWD [(10, 18)]\n",
      "del [(13, 9)]\n",
      "doing [(3, 61)]\n",
      "Entry [(1, 4)]\n",
      "for [(1, 16)]\n",
      "from [(3, 18), (4, 24), (10, 22), (15, 5)]\n",
      "if [(9, 1), (12, 5)]\n",
      "import [(7, 1), (15, 20)]\n",
      "imports [(3, 67)]\n",
      "init_path [(11, 49)]\n",
      "InteractiveShellApp [(11, 29)]\n",
      "ipykernel [(3, 27), (15, 10)]\n",
      "IPython [(1, 33)]\n",
      "is [(3, 6), (11, 12)]\n",
      "kernel [(1, 41)]\n",
      "kernelapp [(15, 27)]\n",
      "launching [(1, 20)]\n",
      "launch_new_instance [(16, 9)]\n",
      "load [(10, 45)]\n",
      "package [(3, 37)]\n",
      "path [(4, 33), (10, 31), (12, 12), (13, 17)]\n",
      "point [(1, 10)]\n",
      "Remove [(10, 7)]\n",
      "removing [(4, 7)]\n",
      "separate [(3, 9)]\n",
      "so [(3, 45)]\n",
      "stuff [(10, 50)]\n",
      "sys [(4, 29), (7, 8), (10, 27), (12, 8), (13, 13)]\n",
      "the [(3, 23), (4, 16), (10, 14)]\n",
      "This [(3, 1), (11, 7)]\n",
      "until [(3, 75)]\n",
      "we [(3, 48), (10, 42)]\n",
      "while [(10, 36)]\n",
      "__main__ [(9, 17)]\n",
      "__name__ [(9, 4)]\n"
     ]
    }
   ],
   "source": [
    "# same but using collections\n",
    "\n",
    "import collections\n",
    "\n",
    "index = collections.defaultdict(list)\n",
    "with open(sys.argv[0], encoding='utf-8') as fp:\n",
    "    for line_no, line in enumerate(fp, 1):\n",
    "        for match in WORD_RE.finditer(line):\n",
    "            word = match.group()\n",
    "            column_no = match.start() + 1\n",
    "            location = (line_no, column_no)\n",
    "            index[word].append(location)\n",
    "            \n",
    "for word in sorted(index, key=str.upper):\n",
    "    print(word, index[word])"
   ]
  },
  {
   "cell_type": "code",
   "execution_count": 14,
   "metadata": {},
   "outputs": [
    {
     "data": {
      "text/plain": [
       "Counter({'a': 5, 'b': 2, 'r': 2, 'c': 1, 'd': 1})"
      ]
     },
     "execution_count": 14,
     "metadata": {},
     "output_type": "execute_result"
    }
   ],
   "source": [
    "from collections import Counter\n",
    "\n",
    "ct = Counter('abracadabra')\n",
    "ct"
   ]
  },
  {
   "cell_type": "code",
   "execution_count": 15,
   "metadata": {},
   "outputs": [
    {
     "data": {
      "text/plain": [
       "Counter({'a': 10, 'b': 2, 'r': 2, 'c': 1, 'd': 1, 'z': 3})"
      ]
     },
     "execution_count": 15,
     "metadata": {},
     "output_type": "execute_result"
    }
   ],
   "source": [
    "ct.update('aaaaazzz')\n",
    "ct"
   ]
  },
  {
   "cell_type": "code",
   "execution_count": 16,
   "metadata": {},
   "outputs": [
    {
     "data": {
      "text/plain": [
       "[('a', 10), ('z', 3)]"
      ]
     },
     "execution_count": 16,
     "metadata": {},
     "output_type": "execute_result"
    }
   ],
   "source": [
    "ct.most_common(2)"
   ]
  },
  {
   "cell_type": "code",
   "execution_count": 17,
   "metadata": {},
   "outputs": [
    {
     "data": {
      "text/plain": [
       "{'eggs', 'spam'}"
      ]
     },
     "execution_count": 17,
     "metadata": {},
     "output_type": "execute_result"
    }
   ],
   "source": [
    "l = ['spam', 'eggs', 'spam', 'eggs']\n",
    "set(l)"
   ]
  },
  {
   "cell_type": "code",
   "execution_count": 18,
   "metadata": {},
   "outputs": [
    {
     "data": {
      "text/plain": [
       "['eggs', 'spam']"
      ]
     },
     "execution_count": 18,
     "metadata": {},
     "output_type": "execute_result"
    }
   ],
   "source": [
    "list(set(l))"
   ]
  },
  {
   "cell_type": "code",
   "execution_count": 20,
   "metadata": {},
   "outputs": [
    {
     "data": {
      "text/plain": [
       "frozenset({0, 1, 2, 3, 4, 5, 6, 7, 8, 9})"
      ]
     },
     "execution_count": 20,
     "metadata": {},
     "output_type": "execute_result"
    }
   ],
   "source": [
    "frozenset(range(10))"
   ]
  },
  {
   "cell_type": "code",
   "execution_count": 21,
   "metadata": {},
   "outputs": [],
   "source": [
    "from unicodedata import name"
   ]
  },
  {
   "cell_type": "code",
   "execution_count": 22,
   "metadata": {},
   "outputs": [
    {
     "data": {
      "text/plain": [
       "{'#',\n",
       " '$',\n",
       " '%',\n",
       " '+',\n",
       " '<',\n",
       " '=',\n",
       " '>',\n",
       " '¢',\n",
       " '£',\n",
       " '¤',\n",
       " '¥',\n",
       " '§',\n",
       " '©',\n",
       " '¬',\n",
       " '®',\n",
       " '°',\n",
       " '±',\n",
       " 'µ',\n",
       " '¶',\n",
       " '×',\n",
       " '÷'}"
      ]
     },
     "execution_count": 22,
     "metadata": {},
     "output_type": "execute_result"
    }
   ],
   "source": [
    "{chr(i) for i in range(32, 256) if 'SIGN' in name(chr(i), '')}"
   ]
  },
  {
   "cell_type": "code",
   "execution_count": null,
   "metadata": {},
   "outputs": [],
   "source": []
  }
 ],
 "metadata": {
  "kernelspec": {
   "display_name": "Python 3.7.4 64-bit ('.pyenv': pyenv)",
   "language": "python",
   "name": "python37464bitpyenvpyenv82dbca5611f6488184d1e7543fb0bea1"
  },
  "language_info": {
   "codemirror_mode": {
    "name": "ipython",
    "version": 3
   },
   "file_extension": ".py",
   "mimetype": "text/x-python",
   "name": "python",
   "nbconvert_exporter": "python",
   "pygments_lexer": "ipython3",
   "version": "3.8.1"
  }
 },
 "nbformat": 4,
 "nbformat_minor": 4
}
