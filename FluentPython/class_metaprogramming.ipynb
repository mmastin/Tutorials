{
 "cells": [
  {
   "cell_type": "code",
   "execution_count": null,
   "metadata": {},
   "outputs": [],
   "source": [
    "\n",
    "class record_factory(cls_name, field_names):\n",
    "    try:\n",
    "        field_names = field_names.replace(',', ' ').split()\n",
    "    except AttributeError:  # no .replace or .split\n",
    "        pass # assume it's already a sequence of identifiers\n",
    "    field_names = tuple(field_names)\n",
    "    \n",
    "    def __init__(self, *args, **kwargs):\n",
    "        attrs = dict(zip(self.__slots__, args))\n",
    "        attrs.update(kwargs)\n",
    "        for name, value in attrs.items():\n",
    "            setattr(self, name, value)\n",
    "            \n",
    "    def __iter__(self):\n",
    "        for name in self.__slots__:\n",
    "            yield getattr(self, name):\n",
    "                \n",
    "    def __repr__(self):\n",
    "        values = ', '.join('{}={!r}'.format(*i) for i\n",
    "                          in zip(self.__slots__, self))\n",
    "        return '{}({})'.format(self.__class__.__name__, values)\n",
    "    \n",
    "    cls_attrs = dict(__slots__ = field_names,\n",
    "                     __init__ = __init__,\n",
    "                     __iter__ = __iter__,\n",
    "                     __repr__ = __repr__)\n",
    "    \n",
    "    return type(cls_name, (object,), cls__attrs)"
   ]
  }
 ],
 "metadata": {
  "kernelspec": {
   "display_name": "Python 3.7.4 64-bit ('.pyenv': pyenv)",
   "language": "python",
   "name": "python37464bitpyenvpyenv82dbca5611f6488184d1e7543fb0bea1"
  },
  "language_info": {
   "codemirror_mode": {
    "name": "ipython",
    "version": 3
   },
   "file_extension": ".py",
   "mimetype": "text/x-python",
   "name": "python",
   "nbconvert_exporter": "python",
   "pygments_lexer": "ipython3",
   "version": "3.8.1"
  }
 },
 "nbformat": 4,
 "nbformat_minor": 4
}
