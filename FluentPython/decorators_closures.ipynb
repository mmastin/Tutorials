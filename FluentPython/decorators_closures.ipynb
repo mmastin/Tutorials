{
 "cells": [
  {
   "cell_type": "code",
   "execution_count": 1,
   "metadata": {},
   "outputs": [],
   "source": [
    "def deco(func):\n",
    "    def inner():\n",
    "        print('running inner()')\n",
    "    return inner\n",
    "\n",
    "@deco\n",
    "def target():\n",
    "    print('running target()')"
   ]
  },
  {
   "cell_type": "code",
   "execution_count": 2,
   "metadata": {},
   "outputs": [
    {
     "name": "stdout",
     "output_type": "stream",
     "text": [
      "running inner()\n"
     ]
    }
   ],
   "source": [
    "target()"
   ]
  },
  {
   "cell_type": "code",
   "execution_count": 3,
   "metadata": {},
   "outputs": [
    {
     "data": {
      "text/plain": [
       "<function __main__.deco.<locals>.inner()>"
      ]
     },
     "execution_count": 3,
     "metadata": {},
     "output_type": "execute_result"
    }
   ],
   "source": [
    "target"
   ]
  },
  {
   "cell_type": "code",
   "execution_count": 6,
   "metadata": {},
   "outputs": [],
   "source": [
    "class Averager():\n",
    "    def __init__(self):\n",
    "        self.series = []\n",
    "        \n",
    "    def __call__(self, new_value):\n",
    "        self.series.append(new_value)\n",
    "        total = sum(self.series)\n",
    "        return total / len(self.series)"
   ]
  },
  {
   "cell_type": "code",
   "execution_count": 7,
   "metadata": {},
   "outputs": [
    {
     "data": {
      "text/plain": [
       "10.0"
      ]
     },
     "execution_count": 7,
     "metadata": {},
     "output_type": "execute_result"
    }
   ],
   "source": [
    "avg = Averager()\n",
    "avg(10)"
   ]
  },
  {
   "cell_type": "code",
   "execution_count": 8,
   "metadata": {},
   "outputs": [
    {
     "data": {
      "text/plain": [
       "15.0"
      ]
     },
     "execution_count": 8,
     "metadata": {},
     "output_type": "execute_result"
    }
   ],
   "source": [
    "avg(20)"
   ]
  },
  {
   "cell_type": "code",
   "execution_count": 9,
   "metadata": {},
   "outputs": [
    {
     "data": {
      "text/plain": [
       "10.0"
      ]
     },
     "execution_count": 9,
     "metadata": {},
     "output_type": "execute_result"
    }
   ],
   "source": [
    "def make_averager():\n",
    "    series = []\n",
    "    \n",
    "    def averager(new_value):\n",
    "        series.append(new_value)\n",
    "        total = sum(series)\n",
    "        return total / len(series)\n",
    "    \n",
    "    return averager\n",
    "\n",
    "avg = make_averager()\n",
    "avg(10)"
   ]
  },
  {
   "cell_type": "code",
   "execution_count": 10,
   "metadata": {},
   "outputs": [
    {
     "data": {
      "text/plain": [
       "15.0"
      ]
     },
     "execution_count": 10,
     "metadata": {},
     "output_type": "execute_result"
    }
   ],
   "source": [
    "avg(20)"
   ]
  },
  {
   "cell_type": "code",
   "execution_count": 11,
   "metadata": {},
   "outputs": [],
   "source": [
    "# simple decorator to output the run time of functions\n",
    "\n",
    "import time\n",
    "\n",
    "def clock(func):\n",
    "    def clocked(*args):\n",
    "        t0 = time.perf_counter()\n",
    "        result = func(*args)\n",
    "        elapsed = time.perf_counter() - t0\n",
    "        name = func.__name__\n",
    "        arg_str = ', '.join(repr(arg) for arg in args)\n",
    "        print('[%0.8fs] %s(%s) -> %r' % (elapsed, name, arg_str, result))\n",
    "        return result\n",
    "    return clocked"
   ]
  },
  {
   "cell_type": "code",
   "execution_count": 12,
   "metadata": {},
   "outputs": [],
   "source": [
    "@clock\n",
    "def snooze(seconds):\n",
    "    time.sleep(seconds)\n",
    "    \n",
    "@clock\n",
    "def factorial(n):\n",
    "    return 1 if n < 2 else n * factorial(n - 1)"
   ]
  },
  {
   "cell_type": "code",
   "execution_count": 13,
   "metadata": {},
   "outputs": [
    {
     "name": "stdout",
     "output_type": "stream",
     "text": [
      "[0.00000050s] fibonacci(0) -> 0\n",
      "[0.00000110s] fibonacci(1) -> 1\n",
      "[0.00304746s] fibonacci(2) -> 1\n",
      "[0.00000047s] fibonacci(1) -> 1\n",
      "[0.00000057s] fibonacci(0) -> 0\n",
      "[0.00000061s] fibonacci(1) -> 1\n",
      "[0.00011797s] fibonacci(2) -> 1\n",
      "[0.00017397s] fibonacci(3) -> 2\n",
      "[0.00326695s] fibonacci(4) -> 3\n",
      "[0.00000044s] fibonacci(1) -> 1\n",
      "[0.00000186s] fibonacci(0) -> 0\n",
      "[0.00000095s] fibonacci(1) -> 1\n",
      "[0.00009645s] fibonacci(2) -> 1\n",
      "[0.00014797s] fibonacci(3) -> 2\n",
      "[0.00000049s] fibonacci(0) -> 0\n",
      "[0.00000067s] fibonacci(1) -> 1\n",
      "[0.00005039s] fibonacci(2) -> 1\n",
      "[0.00000049s] fibonacci(1) -> 1\n",
      "[0.00000057s] fibonacci(0) -> 0\n",
      "[0.00000060s] fibonacci(1) -> 1\n",
      "[0.00005026s] fibonacci(2) -> 1\n",
      "[0.00009993s] fibonacci(3) -> 2\n",
      "[0.00020101s] fibonacci(4) -> 3\n",
      "[0.00040005s] fibonacci(5) -> 5\n",
      "[0.00371292s] fibonacci(6) -> 8\n"
     ]
    },
    {
     "data": {
      "text/plain": [
       "8"
      ]
     },
     "execution_count": 13,
     "metadata": {},
     "output_type": "execute_result"
    }
   ],
   "source": [
    "# slow recursive fibonacci\n",
    "\n",
    "@clock\n",
    "def fibonacci(n):\n",
    "    if n < 2:\n",
    "        return n\n",
    "    return fibonacci(n - 2) + fibonacci(n - 1)\n",
    "\n",
    "fibonacci(6)"
   ]
  },
  {
   "cell_type": "code",
   "execution_count": 15,
   "metadata": {},
   "outputs": [
    {
     "name": "stdout",
     "output_type": "stream",
     "text": [
      "[0.00000046s] fibonacci(0) -> 0\n",
      "[0.00000110s] fibonacci(1) -> 1\n",
      "[0.00030937s] fibonacci(2) -> 1\n",
      "[0.00000113s] fibonacci(3) -> 2\n",
      "[0.00034920s] fibonacci(4) -> 3\n",
      "[0.00000083s] fibonacci(5) -> 5\n",
      "[0.00048916s] fibonacci(6) -> 8\n"
     ]
    },
    {
     "data": {
      "text/plain": [
       "8"
      ]
     },
     "execution_count": 15,
     "metadata": {},
     "output_type": "execute_result"
    }
   ],
   "source": [
    "# faster fibonacci implementation\n",
    "\n",
    "import functools\n",
    "\n",
    "@functools.lru_cache()\n",
    "@clock\n",
    "def fibonacci(n):\n",
    "    if n < 2:\n",
    "        return n\n",
    "    return fibonacci(n - 2) + fibonacci(n - 1)\n",
    "\n",
    "fibonacci(6)"
   ]
  },
  {
   "cell_type": "code",
   "execution_count": 16,
   "metadata": {},
   "outputs": [
    {
     "name": "stdout",
     "output_type": "stream",
     "text": [
      "[0.00000113s] fibonacci(7) -> 13\n",
      "[0.00047625s] fibonacci(8) -> 21\n",
      "[0.00000102s] fibonacci(9) -> 34\n",
      "[0.00055102s] fibonacci(10) -> 55\n",
      "[0.00005357s] fibonacci(11) -> 89\n",
      "[0.00070486s] fibonacci(12) -> 144\n",
      "[0.00000158s] fibonacci(13) -> 233\n",
      "[0.00078055s] fibonacci(14) -> 377\n",
      "[0.00000130s] fibonacci(15) -> 610\n",
      "[0.00083523s] fibonacci(16) -> 987\n",
      "[0.00000139s] fibonacci(17) -> 1597\n",
      "[0.00089806s] fibonacci(18) -> 2584\n",
      "[0.00000137s] fibonacci(19) -> 4181\n",
      "[0.00096624s] fibonacci(20) -> 6765\n",
      "[0.00000141s] fibonacci(21) -> 10946\n",
      "[0.00103061s] fibonacci(22) -> 17711\n",
      "[0.00000128s] fibonacci(23) -> 28657\n",
      "[0.00111101s] fibonacci(24) -> 46368\n",
      "[0.00000125s] fibonacci(25) -> 75025\n",
      "[0.00116846s] fibonacci(26) -> 121393\n",
      "[0.00000116s] fibonacci(27) -> 196418\n",
      "[0.00122327s] fibonacci(28) -> 317811\n",
      "[0.00000111s] fibonacci(29) -> 514229\n",
      "[0.00128247s] fibonacci(30) -> 832040\n"
     ]
    },
    {
     "data": {
      "text/plain": [
       "832040"
      ]
     },
     "execution_count": 16,
     "metadata": {},
     "output_type": "execute_result"
    }
   ],
   "source": [
    "fibonacci(30)"
   ]
  },
  {
   "cell_type": "code",
   "execution_count": null,
   "metadata": {},
   "outputs": [],
   "source": []
  }
 ],
 "metadata": {
  "kernelspec": {
   "display_name": "Python 3.7.4 64-bit ('.pyenv': pyenv)",
   "language": "python",
   "name": "python37464bitpyenvpyenv82dbca5611f6488184d1e7543fb0bea1"
  },
  "language_info": {
   "codemirror_mode": {
    "name": "ipython",
    "version": 3
   },
   "file_extension": ".py",
   "mimetype": "text/x-python",
   "name": "python",
   "nbconvert_exporter": "python",
   "pygments_lexer": "ipython3",
   "version": "3.8.1"
  }
 },
 "nbformat": 4,
 "nbformat_minor": 4
}
